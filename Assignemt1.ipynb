{
 "cells": [
  {
   "cell_type": "code",
   "execution_count": 5,
   "id": "b0c44864",
   "metadata": {},
   "outputs": [
    {
     "data": {
      "text/plain": [
       "\"\\nAns: '*'-- expression\\n     'hello'-- value\\n    -87.8- value\\n    - : expression\\n      / : expression\\n      +\\t :expression\\n    6 : value \\n\""
      ]
     },
     "execution_count": 5,
     "metadata": {},
     "output_type": "execute_result"
    }
   ],
   "source": [
    "#1. In the below elements which of them are values or an expression? eg:- values can be integer or string and expressions will be mathematical operators.\n",
    "\"\"\"\n",
    "* \n",
    "'hello'\n",
    "-87.8\n",
    "- \n",
    "/ \n",
    "+\t\n",
    "6 \n",
    "\"\"\"\n",
    "\n",
    "\"\"\"\n",
    "Ans: '*'-- expression\n",
    "     'hello'-- value\n",
    "    -87.8- value\n",
    "    - : expression\n",
    "      / : expression\n",
    "      +\t :expression\n",
    "    6 : value \n",
    "\"\"\"\n",
    "  \n",
    "\n",
    "\n"
   ]
  },
  {
   "cell_type": "code",
   "execution_count": 6,
   "id": "c7f45dc8",
   "metadata": {},
   "outputs": [
    {
     "data": {
      "text/plain": [
       "'\\nAns: String is a datatype whereas variable is a term that is defined by user.\\nA variable can be of any datatype i.e int,str,bool etc.\\nA string is usually defined inside a \"\" or \\'\\'. \\n'"
      ]
     },
     "execution_count": 6,
     "metadata": {},
     "output_type": "execute_result"
    }
   ],
   "source": [
    "#2. What is the difference between string and variable?\n",
    "\"\"\"\n",
    "Ans: String is a datatype whereas variable is a term that is defined by user.\n",
    "A variable can be of any datatype i.e int,str,bool etc.\n",
    "A string is usually defined inside a \"\" or ''. \n",
    "\"\"\""
   ]
  },
  {
   "cell_type": "code",
   "execution_count": 7,
   "id": "a5cd5b62",
   "metadata": {},
   "outputs": [
    {
     "data": {
      "text/plain": [
       "'\\nThe three different datatypes are Numeric,str and Bool\\nNumeric - takes an numeric value as input, whch can be a in, float or complex \\nstr - takes a string as input for the varialble we define\\nBool- takes either of True or False as an input\\n\\n'"
      ]
     },
     "execution_count": 7,
     "metadata": {},
     "output_type": "execute_result"
    }
   ],
   "source": [
    "# 3.Describe three different data types.\n",
    "\"\"\"\n",
    "The three different datatypes are Numeric,str and Bool\n",
    "Numeric - takes an numeric value as input, whch can be a in, float or complex \n",
    "str - takes a string as input for the varialble we define\n",
    "Bool- takes either of True or False as an input\n",
    "\n",
    "\"\"\""
   ]
  },
  {
   "cell_type": "code",
   "execution_count": 9,
   "id": "257d396d",
   "metadata": {},
   "outputs": [
    {
     "data": {
      "text/plain": [
       "'\\nExpressions are made of characaters which include \"+\",\"-\",\"/\",\"*\",\"<\",\">\",\"=\"\\nThese expressions can be used for perform various logical or mathematical operations including addition,subtraction,multiplication and division\\nThese expressions are also used for incrementing,decrementing, comparing operations as well\\n'"
      ]
     },
     "execution_count": 9,
     "metadata": {},
     "output_type": "execute_result"
    }
   ],
   "source": [
    "#What is an expression made up of? What do all expressions do?\n",
    "\"\"\"\n",
    "Expressions are made of combination of values and functions which include \"+\",\"-\",\"/\",\"*\",\"<\",\">\",\"=\"\n",
    "These expressions can be used for perform various logical or mathematical operations including addition,subtraction,multiplication and division\n",
    "These expressions are also used for incrementing,decrementing, comparing operations as well.\n",
    "They are executed in the compiler to create a new value.\n",
    "\"\"\""
   ]
  },
  {
   "cell_type": "code",
   "execution_count": 10,
   "id": "fd648ac2",
   "metadata": {},
   "outputs": [
    {
     "data": {
      "text/plain": [
       "\"\\nExpressions are made of combination of values and functions which are executed in the compiler to create a new value. \\nA “statement” which is just a standalone unit of execution and doesn't return anything.\\n\""
      ]
     },
     "execution_count": 10,
     "metadata": {},
     "output_type": "execute_result"
    }
   ],
   "source": [
    "#5. This assignment statements, like spam = 10. What is the difference between an expression and a statement?\n",
    "\"\"\"\n",
    "Expressions are made of combination of values and functions which are executed in the compiler to create a new value. \n",
    "A “statement” which is just a standalone unit of execution and doesn't return anything.\n",
    "\"\"\""
   ]
  },
  {
   "cell_type": "code",
   "execution_count": 11,
   "id": "002da629",
   "metadata": {},
   "outputs": [
    {
     "data": {
      "text/plain": [
       "'bacon = 22\\nbacon + 1\\n'"
      ]
     },
     "execution_count": 11,
     "metadata": {},
     "output_type": "execute_result"
    }
   ],
   "source": [
    "#6. After running the following code, what does the variable bacon contain?\n",
    "\"\"\"bacon = 22\n",
    "bacon + 1\n",
    "\"\"\"\n",
    "\"\"\"\n",
    "Ans: 23\n",
    "\n",
    "\"\"\""
   ]
  },
  {
   "cell_type": "code",
   "execution_count": 17,
   "id": "cf40f3a7",
   "metadata": {},
   "outputs": [
    {
     "data": {
      "text/plain": [
       "'spamspamspam'"
      ]
     },
     "execution_count": 17,
     "metadata": {},
     "output_type": "execute_result"
    }
   ],
   "source": [
    "\"\"\"\n",
    "7. What should the values of the following two terms be?\n",
    "'spam' + 'spamspam'\n",
    "'spam' * 3\n",
    "\"\"\"\n",
    "\"\"\"\n",
    "Both values are same- \"spamspamspam\"\n",
    "\"\"\"\n",
    "'spam'+ 'spamspam'\n",
    "'spam'*3"
   ]
  },
  {
   "cell_type": "code",
   "execution_count": 18,
   "id": "c835f65a",
   "metadata": {},
   "outputs": [
    {
     "data": {
      "text/plain": [
       "'\\n100 is a invalid variable because a variable cannot be assigned an interger value\\n'"
      ]
     },
     "execution_count": 18,
     "metadata": {},
     "output_type": "execute_result"
    }
   ],
   "source": [
    "#8. Why is eggs a valid variable name while 100 is invalid?\n",
    "\"\"\"\n",
    "100 is a invalid variable because a variable cannot be assigned an interger value\n",
    "\"\"\""
   ]
  },
  {
   "cell_type": "code",
   "execution_count": 19,
   "id": "6fda6bf2",
   "metadata": {},
   "outputs": [
    {
     "data": {
      "text/plain": [
       "'\\nFuntions int(), str() and float() can be used.\\n'"
      ]
     },
     "execution_count": 19,
     "metadata": {},
     "output_type": "execute_result"
    }
   ],
   "source": [
    "#9 What three functions can be used to get the integer, floating-point number, or string version of a value?\n",
    "\"\"\"\n",
    "Funtions int(), str() and float() can be used.\n",
    "\"\"\""
   ]
  },
  {
   "cell_type": "code",
   "execution_count": 21,
   "id": "46c5b575",
   "metadata": {},
   "outputs": [
    {
     "data": {
      "text/plain": [
       "'I have eaten99burritos.'"
      ]
     },
     "execution_count": 21,
     "metadata": {},
     "output_type": "execute_result"
    }
   ],
   "source": [
    "\"\"\"\n",
    "10. Why does this expression cause an error? How can you fix it?\n",
    "'I have eaten ' + 99 + ' burritos.'\n",
    "\"\"\"\n",
    "\n",
    "\"\"\"\n",
    "This throws an error because we are tring to use an \"Addition operation\" to two different datatypes\n",
    "'I have eaten' and 'Burritos are String datatype' and '99 is integer datatype'\n",
    "This can be corrected as below\n",
    "\"\"\"\n",
    "'I have eaten' + str('99') + 'burritos.'"
   ]
  },
  {
   "cell_type": "code",
   "execution_count": null,
   "id": "6e782bed",
   "metadata": {},
   "outputs": [],
   "source": []
  }
 ],
 "metadata": {
  "kernelspec": {
   "display_name": "Python 3 (ipykernel)",
   "language": "python",
   "name": "python3"
  },
  "language_info": {
   "codemirror_mode": {
    "name": "ipython",
    "version": 3
   },
   "file_extension": ".py",
   "mimetype": "text/x-python",
   "name": "python",
   "nbconvert_exporter": "python",
   "pygments_lexer": "ipython3",
   "version": "3.9.7"
  }
 },
 "nbformat": 4,
 "nbformat_minor": 5
}
